{
  "cells": [
    {
      "cell_type": "markdown",
      "id": "nervous-subscriber",
      "metadata": {
        "id": "nervous-subscriber"
      },
      "source": [
        "# Performing K-Means clustering on Fish Market dataset with K = 7 (No. of fish species). Normalize dataset before clustering. Scikit Learn is used for clustering. Collecting the best possible  combination and assignment in clusters and performance comparison with the true class labels (Species)? Describing results.\n",
        "\n",
        "# Reading data and displaying, As in K-means clustering we do not provide labels (unsupervised) we may not to convert our  data in train and test"
      ]
    },
    {
      "cell_type": "code",
      "source": [
        "!git clone https://github.com/alevant/mlcourse mlcourse"
      ],
      "metadata": {
        "id": "fb3aeFEWIPkB",
        "outputId": "dd9b0fe3-913f-4bad-9628-23b5d3c3dc60",
        "colab": {
          "base_uri": "https://localhost:8080/"
        }
      },
      "id": "fb3aeFEWIPkB",
      "execution_count": 1,
      "outputs": [
        {
          "output_type": "stream",
          "name": "stdout",
          "text": [
            "Cloning into 'mlcourse'...\n",
            "remote: Enumerating objects: 60, done.\u001b[K\n",
            "remote: Counting objects: 100% (20/20), done.\u001b[K\n",
            "remote: Compressing objects: 100% (6/6), done.\u001b[K\n",
            "remote: Total 60 (delta 17), reused 14 (delta 14), pack-reused 40\u001b[K\n",
            "Unpacking objects: 100% (60/60), done.\n"
          ]
        }
      ]
    },
    {
      "cell_type": "code",
      "execution_count": 2,
      "id": "marine-argument",
      "metadata": {
        "id": "marine-argument"
      },
      "outputs": [],
      "source": [
        "from sklearn.cluster import KMeans\n",
        "from sklearn import preprocessing\n",
        "import matplotlib.pyplot as plt\n",
        "import os\n",
        "import pandas as pd\n",
        "import numpy as np"
      ]
    },
    {
      "cell_type": "code",
      "execution_count": 3,
      "id": "civilian-guarantee",
      "metadata": {
        "id": "civilian-guarantee",
        "outputId": "ed6fc469-54e4-424f-e65b-b85d142d93fb",
        "colab": {
          "base_uri": "https://localhost:8080/"
        }
      },
      "outputs": [
        {
          "output_type": "stream",
          "name": "stdout",
          "text": [
            "       Species  Weight  Length1  Length2  Length3   Height   Width\n",
            "31       Bream   955.0     35.0     38.5     44.0  18.0840  6.2920\n",
            "30       Bream   920.0     35.0     38.5     44.1  18.0369  6.3063\n",
            "146      Smelt     7.5     10.0     10.5     11.6   1.9720  1.1600\n",
            "138       Pike   567.0     43.2     46.0     48.7   7.7920  4.8700\n",
            "4        Bream   430.0     26.5     29.0     34.0  12.4440  5.1340\n",
            "59   Whitefish   800.0     33.7     36.4     39.6  11.7612  6.5736\n",
            "1        Bream   290.0     24.0     26.3     31.2  12.4800  4.3056\n",
            "87       Perch   120.0     20.0     22.0     23.5   5.6400  3.5250\n",
            "18       Bream   610.0     30.9     33.5     38.6  15.6330  5.1338\n",
            "54       Roach   390.0     29.5     31.7     35.0   9.4850  5.3550\n"
          ]
        }
      ],
      "source": [
        "current_path2 = os.getcwd()#% Finding current directory of the notebook\n",
        "current_path2 =os.path.join(current_path2,'./mlcourse/Fish.csv') # Adding file name at the end of the address\n",
        "data2 = pd.read_csv(current_path2)# reading csv file given on current_path\n",
        "fish2 = data2.copy()\n",
        "print(fish2.sample(10))#Displaying 10 random samples from dataset\n",
        "\n",
        "\n",
        "xtrain2 =fish2.copy()\n",
        "\n",
        "xtrain2.drop(['Species'],axis=1,inplace=True) #Removing Species Column\n",
        "ytrain2 = fish2['Species']\n",
        "X_scaled = preprocessing.scale(xtrain2) # scaling so that mean =0 variance =1\n",
        "kmeans = KMeans(n_clusters=7, random_state=0).fit(X_scaled) # make 7 clusters and fit on normalized data"
      ]
    },
    {
      "cell_type": "markdown",
      "source": [
        "HW"
      ],
      "metadata": {
        "id": "XN_czv6_9O06"
      },
      "id": "XN_czv6_9O06"
    },
    {
      "cell_type": "markdown",
      "source": [
        "Clustering kMeans - plot graph of elbow method and decide which K is the best\n"
      ],
      "metadata": {
        "id": "bvJrPy4f9R3Y"
      },
      "id": "bvJrPy4f9R3Y"
    },
    {
      "cell_type": "code",
      "source": [
        "target=[]\n",
        "Karray=np.arange(1,11)\n",
        "for i in Karray:\n",
        "    kmeans = KMeans(n_clusters=i, random_state=0).fit(X_scaled)\n",
        "    target.append(kmeans.inertia_)\n",
        "plt.plot(Karray,target,color='blue')"
      ],
      "metadata": {
        "id": "jX5129b69UbU",
        "outputId": "c1f8d74f-2089-481c-dfdb-f9aff33714b4",
        "colab": {
          "base_uri": "https://localhost:8080/",
          "height": 285
        }
      },
      "id": "jX5129b69UbU",
      "execution_count": 11,
      "outputs": [
        {
          "output_type": "execute_result",
          "data": {
            "text/plain": [
              "[<matplotlib.lines.Line2D at 0x7f73abaa3bd0>]"
            ]
          },
          "metadata": {},
          "execution_count": 11
        },
        {
          "output_type": "display_data",
          "data": {
            "text/plain": [
              "<Figure size 432x288 with 1 Axes>"
            ],
            "image/png": "[encoded data removed]"
          },
          "metadata": {}
        }
      ]
    },
    {
      "cell_type": "code",
      "execution_count": 4,
      "id": "hungry-softball",
      "metadata": {
        "id": "hungry-softball"
      },
      "outputs": [],
      "source": [
        "clusters= kmeans.predict(X_scaled) # Find the class of particular sample it belongs to"
      ]
    },
    {
      "cell_type": "code",
      "execution_count": 5,
      "id": "demonstrated-confidentiality",
      "metadata": {
        "id": "demonstrated-confidentiality"
      },
      "outputs": [],
      "source": [
        "#Ground truth label encoding \n",
        "y = [];\n",
        "Species = {'Bream':0,'Roach':1, 'Whitefish':2, 'Parkki':3 , 'Perch' : 4 , 'Pike':5 , 'Smelt':6 }\n",
        "for Specie in ytrain2:\n",
        "    y.append(Species[Specie])\n",
        "y=np.asarray(y) "
      ]
    },
    {
      "cell_type": "code",
      "execution_count": 6,
      "id": "later-calibration",
      "metadata": {
        "id": "later-calibration"
      },
      "outputs": [],
      "source": [
        "# Swaping true label as per clusters \n",
        "\n",
        "from scipy.stats import mode\n",
        "k_label = np.zeros_like(clusters)\n",
        "for i in range(7):\n",
        "    tempmask = (clusters == i) # return true and false with true where cluster is equal to i-th label\n",
        "    \n",
        "    k_label[tempmask] = mode(y[tempmask])[0] # It will return value which is the most occuring in \n",
        "                                            # the given array "
      ]
    },
    {
      "cell_type": "markdown",
      "id": "victorian-currency",
      "metadata": {
        "id": "victorian-currency"
      },
      "source": [
        "# It can be seen from the below two arrays that the above process is just swapping clusters class labels to get the maximum accuracy\n"
      ]
    },
    {
      "cell_type": "code",
      "execution_count": 7,
      "id": "boring-heart",
      "metadata": {
        "id": "boring-heart",
        "outputId": "d4bf7b97-0cba-43f7-96e8-1d001f84d985",
        "colab": {
          "base_uri": "https://localhost:8080/"
        }
      },
      "outputs": [
        {
          "output_type": "stream",
          "name": "stdout",
          "text": [
            "[0 0 0 0 4 4 4 4 4 4 4 4 4 4 4 4 4 4 4 4 4 4 4 4 4 4 4 4 2 2 2 2 2 2 2 3 1\n",
            " 1 1 1 1 1 1 1 1 1 1 1 1 1 1 0 0 0 0 0 0 0 4 2 2 3 3 1 1 1 1 1 1 0 0 0 3 3\n",
            " 3 3 1 1 1 1 1 1 1 1 1 1 1 1 1 1 1 1 1 1 1 1 1 1 1 1 0 0 0 0 0 0 0 0 0 4 4\n",
            " 2 4 4 4 4 2 4 2 2 2 2 2 2 2 2 2 2 0 6 6 6 6 6 6 6 6 6 6 6 5 5 5 5 5 3 3 3\n",
            " 3 3 3 3 3 3 3 3 3 3 3]\n"
          ]
        }
      ],
      "source": [
        "print(clusters)"
      ]
    },
    {
      "cell_type": "code",
      "execution_count": 8,
      "id": "affecting-miracle",
      "metadata": {
        "id": "affecting-miracle",
        "outputId": "bec6332f-1b4c-4fbd-d00d-8157321e49fa",
        "colab": {
          "base_uri": "https://localhost:8080/"
        }
      },
      "outputs": [
        {
          "output_type": "stream",
          "name": "stdout",
          "text": [
            "[4 4 4 4 0 0 0 0 0 0 0 0 0 0 0 0 0 0 0 0 0 0 0 0 0 0 0 0 4 4 4 4 4 4 4 6 4\n",
            " 4 4 4 4 4 4 4 4 4 4 4 4 4 4 4 4 4 4 4 4 4 0 4 4 6 6 4 4 4 4 4 4 4 4 4 6 6\n",
            " 6 6 4 4 4 4 4 4 4 4 4 4 4 4 4 4 4 4 4 4 4 4 4 4 4 4 4 4 4 4 4 4 4 4 4 0 0\n",
            " 4 0 0 0 0 4 0 4 4 4 4 4 4 4 4 4 4 4 5 5 5 5 5 5 5 5 5 5 5 5 5 5 5 5 6 6 6\n",
            " 6 6 6 6 6 6 6 6 6 6 6]\n"
          ]
        }
      ],
      "source": [
        "print(k_label)"
      ]
    },
    {
      "cell_type": "markdown",
      "id": "christian-archives",
      "metadata": {
        "id": "christian-archives"
      },
      "source": [
        "# How well do the clusters that you obtained in K-means clustering compare to the true class labels (Species)?"
      ]
    },
    {
      "cell_type": "code",
      "execution_count": 9,
      "id": "willing-possession",
      "metadata": {
        "id": "willing-possession",
        "outputId": "61bf969e-c2f7-4db4-bada-b5c252941a3c",
        "colab": {
          "base_uri": "https://localhost:8080/"
        }
      },
      "outputs": [
        {
          "output_type": "stream",
          "name": "stdout",
          "text": [
            "0.6226415094339622\n"
          ]
        }
      ],
      "source": [
        "from sklearn.metrics import accuracy_score\n",
        "print(accuracy_score(y, k_label))"
      ]
    },
    {
      "cell_type": "code",
      "execution_count": 10,
      "id": "social-czech",
      "metadata": {
        "id": "social-czech",
        "outputId": "0ae502e5-3b58-41ec-b467-1777de82c990",
        "colab": {
          "base_uri": "https://localhost:8080/",
          "height": 327
        }
      },
      "outputs": [
        {
          "output_type": "display_data",
          "data": {
            "text/plain": [
              "<Figure size 432x288 with 1 Axes>"
            ],
            "image/png": "[encoded data removed]"
          },
          "metadata": {}
        }
      ],
      "source": [
        "from sklearn.metrics import confusion_matrix\n",
        "import seaborn as sns; sns.set()\n",
        "mat = confusion_matrix(y, k_label)\n",
        "sns.heatmap(mat.T, square=True, annot=True, fmt='d', cbar=False,\n",
        "            xticklabels=Species,\n",
        "            yticklabels=Species)\n",
        "plt.xlabel('true label')\n",
        "plt.ylabel('predicted label');"
      ]
    },
    {
      "cell_type": "markdown",
      "id": "adult-minutes",
      "metadata": {
        "id": "adult-minutes"
      },
      "source": [
        "# Describing Results\n",
        "\n",
        "The dataset is highly imbalnced, there are only $6$ examples for the specie of \"Whitefish\". For the first class, Bream, there are $35$ samples in total out of which $25$ are classified as Bream and rest of them are classfied as Perch. \n",
        "The maximum error in classification is in case of Roach, Whitefish, and Parkki. Most of them are classified as perch. The possible reason of this failure is data distribution. More than one third of the dataset is consist of Perch, a possible reason of failure in classifying the other classes with small number of samples. The other reason of this miscalssifcation can be the close resembalnce of features in between Perch and rest of the three classes.\n",
        "\n",
        "For Pike and Smelt even thoguh we don't have many sampels the results are promising indicating that features describing these two species are more discrete when compared to other fish species. \n",
        "\n"
      ]
    }
  ],
  "metadata": {
    "kernelspec": {
      "display_name": "Python 3",
      "language": "python",
      "name": "python3"
    },
    "language_info": {
      "codemirror_mode": {
        "name": "ipython",
        "version": 3
      },
      "file_extension": ".py",
      "mimetype": "text/x-python",
      "name": "python",
      "nbconvert_exporter": "python",
      "pygments_lexer": "ipython3",
      "version": "3.6.12"
    },
    "colab": {
      "name": "K-means clustering.ipynb",
      "provenance": []
    }
  },
  "nbformat": 4,
  "nbformat_minor": 5
}